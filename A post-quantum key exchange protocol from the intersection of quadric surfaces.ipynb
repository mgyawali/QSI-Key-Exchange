{
 "cells": [
  {
   "cell_type": "markdown",
   "metadata": {},
   "source": [
    "# QSI Key Exchange"
   ]
  },
  {
   "cell_type": "code",
   "execution_count": 47,
   "metadata": {},
   "outputs": [],
   "source": [
    " def GLEmb(n,m,M): \n",
    "    \n",
    "    \"\"\"\n",
    "     This function gives an embedding GL(n) --> GL(N) associated to the standard Veronese Embedding of degree m, where\n",
    "     N = binomial(n+m-1,m). \n",
    "  \n",
    "     The map  v_{n-1,m}:P^(n-1) to P^(N-1) is the Veronese embedding.\n",
    "  \n",
    "     Input :\n",
    "     m= degree of Veronese Embedding\n",
    "     n= dimension of projective space P^(n-1)+1 \n",
    "     M =   n X n Matrix acting on the coordinates of P^(n-1)\n",
    "     Output:\n",
    "     returns a  N x N matrix  correspoding to the action of the n X n Matrix M, associated to the\n",
    "     Veronese embedding.\n",
    "    \"\"\" \n",
    "    N = binomial(n+m-1,m)\n",
    "    F = M.base_ring()\n",
    "    P = ProjectiveSpace(F,n-1)\n",
    "    L = P.veronese_embedding(m).defining_polynomials()\n",
    "    A = PolynomialRing(F,n^2,'u')\n",
    "    B = PolynomialRing(A,n,'v')    \n",
    "    L1 = [B(L[i]) for i in range(N)]      \n",
    "    v = vector(Matrix(B,n,A.gens())*Matrix(B,n,1,B.gens()))     \n",
    "    L = [L[i](*v) for i in range(N)]      \n",
    "    ls1 = []\n",
    "    for i in range(N):\n",
    "        for j in range(N):\n",
    "            ls1.append(L[i].coefficient(L1[j]))\n",
    "    M3 = Matrix(A,N,ls1)     \n",
    "    w = vector(M)  \n",
    "    M4 = Matrix(F,N)\n",
    "    for i in range(N):\n",
    "        for j in range(N):                \n",
    "            M4[i,j] = M3[i,j](*w)        \n",
    "    return M4          "
   ]
  },
  {
   "cell_type": "code",
   "execution_count": null,
   "metadata": {},
   "outputs": [],
   "source": []
  },
  {
   "cell_type": "code",
   "execution_count": 48,
   "metadata": {},
   "outputs": [],
   "source": [
    " def matrix_to_projective_map(Pn,Pm,M):\n",
    "    \n",
    "    \"\"\"  This function translates a matrix to its corresponding projective map.\n",
    "    Input: Projective Spaces Pn,Pm of dimensions n-1 and m-1 respectively and  m x n matrix  M.\n",
    "    Output : Returns a Projective map f:Pn -> Pm whose defining polynomials\n",
    "    are given by the action of the matrix M to the coordinates of Pn.  \n",
    "    \"\"\" \n",
    "\n",
    "    m = Pm.dimension()+1\n",
    "    n = Pn.dimension()+1\n",
    "    Rn = Pn.coordinate_ring()       \n",
    "    if m != M.nrows() or n != M.ncols():  \n",
    "        return(\"Incompatible values\")\n",
    "    M1 =  list(vector(M.change_ring(Rn)*Matrix(Rn,n,1,Rn.gens()))) # defining polynomials\n",
    "    return Pn.Hom(Pm)(M1)    \n",
    "       "
   ]
  },
  {
   "cell_type": "code",
   "execution_count": 49,
   "metadata": {},
   "outputs": [],
   "source": [
    " def matrix_of_sigma(sigma,m):\n",
    "    \n",
    "    \"\"\"\n",
    "    This function returns a matrix of a sigma embedding\n",
    "\n",
    "    Input : A sigma embedding s11:P1xP1 ->PN and the degree of veronese embedding i.e. m .\n",
    "    Output : The representation matrix  of the sigma embedding, which is of order \\binom(m+3,m) X (m+1)^2.\n",
    "    \"\"\"\n",
    "    N = binomial(m+3,3)\n",
    "    F= sigma.domain().base_ring()    \n",
    "    R.<x0,x1,x2,x3> = PolynomialRing(F,4,'x')\n",
    "    Defsigma = sigma.defining_polynomials()\n",
    "    ls = ((x0*x2+x0*x3+x1*x2+x1*x3)^m).monomials()   \n",
    "    ls1= []\n",
    "    for i in range(N):\n",
    "        for j in ls:\n",
    "            ls1.append(Defsigma[i].coefficient(j)) \n",
    "    M = Matrix(F,N,(m+1)^2,ls1)    \n",
    "    return M"
   ]
  },
  {
   "cell_type": "code",
   "execution_count": 50,
   "metadata": {},
   "outputs": [],
   "source": [
    " def sigma_of_matrix(P1XP1,m,PN,M):\n",
    "        \n",
    "    \"\"\" \n",
    "This function returns a sigma embedding  P1XP1 -->PN  whose representing matrix M is given matrix.\n",
    "\n",
    "Input : Projective spaces P1XP1,PN degree of veronese embedding m and a matrix M.\n",
    "Output : Returns a sigma embedding whose representation matrix is M of order binom(m+3,m) X (m+1)^2.\n",
    "\n",
    "    \"\"\"\n",
    "\n",
    "    F  = P1XP1.base_ring()\n",
    "    P1.<x0,x1> = ProjectiveSpace(F,1)\n",
    "    P2.<x2,x3> = ProjectiveSpace(F,1)\n",
    "    R.<x0,x1,x2,x3> = PolynomialRing(F,4,'x')\n",
    "    phi1 = P1.veronese_embedding(m).defining_polynomials()\n",
    "    phi2 = P2.veronese_embedding(m).defining_polynomials()    \n",
    "    ls3= []\n",
    "    for i in phi1:\n",
    "        for j in phi2:\n",
    "            ls3.append(R(i)*R(j))     \n",
    "    L=list(vector(M.change_ring(R)*Matrix(R,(m+1)^2,1,ls3)))\n",
    "    return P1XP1.Hom(PN)(L)\n",
    "    "
   ]
  },
  {
   "cell_type": "code",
   "execution_count": 51,
   "metadata": {},
   "outputs": [],
   "source": [
    "def j_invariant22(C):\n",
    "    # J INVARIANT OF A (2,2)-CURVE\n",
    "    # Calulates j-invariant of a (2,2)- curve.\n",
    "\n",
    "    P1xP1=C.ambient_space()\n",
    "    R11=P1XP1.coordinate_ring()\n",
    "    F=P1XP1.base_ring()\n",
    "    A.<u0,u1>=PolynomialRing(F,2,'u')\n",
    "    B.<v0,v1,v2,v3>=PolynomialRing(A,4,'v')\n",
    "    f=C.defining_polynomials()[0]    \n",
    "    f=B(f)    \n",
    "    f=f(u0,u1,v2,v3)\n",
    "    Cf=f.coefficients()\n",
    "    g=Cf[1]^2-4*Cf[0]*Cf[2]\n",
    "    g=g/g([0,1])\n",
    "    Cg=g.coefficients()\n",
    "    S=Cg[0]-(Cg[1]*Cg[3])/4+(Cg[2]^2)/12\n",
    "    T=Cg[0]*Cg[2]/6+Cg[1]*Cg[2]*Cg[3]/48-Cg[2]^3/216-Cg[0]*Cg[3]^2/16-Cg[1]^2/16\n",
    "    j=S^3/(S^3-27*T^2)\n",
    "    return(j)"
   ]
  },
  {
   "cell_type": "markdown",
   "metadata": {},
   "source": [
    "# An example with small parameters."
   ]
  },
  {
   "cell_type": "code",
   "execution_count": 75,
   "metadata": {},
   "outputs": [],
   "source": [
    "#Global parameters\n",
    "\n",
    "q=next_prime(2^14)\n",
    "bfF=FiniteField(q)\n",
    "m=5\n",
    "N=binomial(m+3,3)\n",
    "P3=ProjectiveSpace(bfF,3)\n",
    "P1XP1=ProductProjectiveSpaces(bfF,[1,1])\n",
    "PN=ProjectiveSpace(bfF,N-1) \n",
    "RN=PN.coordinate_ring()"
   ]
  },
  {
   "cell_type": "code",
   "execution_count": 76,
   "metadata": {},
   "outputs": [],
   "source": [
    "\n",
    "def keygenA():   \n",
    "        \n",
    "    \"\"\"\n",
    "    Key generation by Alice: \n",
    "    Private  Keys are : MAs, MA(not required in key exchange, can be forgotten after the key generation)\n",
    "    Public Keys are: MAp, HA\n",
    "    MA: A  matrix representation of the Veronese Variety\n",
    "    MAp:A  matrix representation of the public sigma embedding sigmap\n",
    "    MAs:A  matrix representation of the private sigma embedding sigmas \n",
    "    HA: Hyperplane containing the image of secret sigma embedding sigmas\n",
    "    \"\"\"\n",
    "\n",
    "\n",
    "    vA=P3.veronese_embedding(m)      # Chooses a random N by N Matrix to define a random Veronese Variety\n",
    "    \n",
    "    MA=random_matrix(bfF,N)\n",
    "    \n",
    "    phi= matrix_to_projective_map(PN,PN,MA)          #associated projective map\n",
    "    \n",
    "    vA=phi*vA           # A Veronese map with representing matrix MA\n",
    "    \n",
    "    # We construct automorphisms of the Veronese Variety.\n",
    "    \n",
    "    # Choose random 4 by 4 matrices A1dash and A2dash.\n",
    "    A1dash=random_matrix(bfF,4) \n",
    "    A2dash=random_matrix(bfF,4)\n",
    "    \n",
    "    A1=MA*GLEmb(4,m,A1dash)*MA^(-1)   # random automorphism of the Veronese variety\n",
    "    A2=MA*GLEmb(4,m,A2dash)*MA^(-1)   # random automorphism of the Veronese variety\n",
    "    \n",
    "    \n",
    "    # Now, we construct private and public sigma embeddings\n",
    "    \n",
    "    # Random 4 by 4 matrices.\n",
    "    Ap = random_matrix(bfF,4)\n",
    "    As = random_matrix(bfF,4)\n",
    "    \n",
    "    # Corresponding projective maps\n",
    "    phip=matrix_to_projective_map(P3,P3,Ap)\n",
    "    phis=matrix_to_projective_map(P3,P3,As) \n",
    "    \n",
    "    segre=P1XP1.segre_embedding().defining_polynomials()\n",
    "    hom = P1XP1.Hom(P3)\n",
    "    segre = hom(segre)\n",
    "    \n",
    "    sigmap=vA*phip*segre        # The public sigma embedding\n",
    "    \n",
    "    sigmas=vA*phis*segre        #  The  secret sigma embedding\n",
    "    \n",
    "    # Matrices representing the sigma embeddings.\n",
    "    \n",
    "    MAp=matrix_of_sigma(sigmap,m) # matrix of public sigma embedding : Public Key = MAp\n",
    "    MAs=matrix_of_sigma(sigmas,m) # matrix of secret sigma embedding: Private Key  = MAs\n",
    "    \n",
    "    # construction of Hyperplane containing the image of secret sigma embedding\n",
    "    \n",
    "    CoeffHA=MAs.kernel().basis()[0]\n",
    "    HA=RN(0)\n",
    "    for i in range(N):\n",
    "        HA=HA+(RN(CoeffHA[i]))*RN.gens()[i]\n",
    "        \n",
    "    HA=PN.subscheme(HA) # Public Key: a hyperplane containing the image of the sigma embedding \"sigmas\"\n",
    "    return sigmas, (HA, A1, A2, MAp)"
   ]
  },
  {
   "cell_type": "code",
   "execution_count": null,
   "metadata": {},
   "outputs": [],
   "source": []
  },
  {
   "cell_type": "code",
   "execution_count": 77,
   "metadata": {},
   "outputs": [],
   "source": [
    "def keygenB(A1, A2, MAp):\n",
    "    \n",
    "    \"\"\"\n",
    "    BOB COMPUTATIONS\n",
    "    Bob's key construction\n",
    "    Private Key: MB (The representation matrix for the private sigma embedding sigmaB)\n",
    "    Public Key:  HB (A hyperplane containing the image of the sigma embedding sigmaB)\n",
    "    \"\"\"\n",
    "\n",
    "\n",
    "\n",
    "    \n",
    "    b=[Zmod(q).random_element() for i in range(4)]\n",
    "    \n",
    "    MBdash=A1^b[0]*A2^b[1]*A1^b[2]*A2^b[3] # construction of random automorphism of the Veronese variety .\n",
    "    \n",
    "    MB=MBdash*MAp\n",
    "    \n",
    "    sigmaB=sigma_of_matrix(P1XP1,m,PN,MB) # secret sigma embedding \n",
    "    \n",
    "    CoeffHB=MB.kernel().basis()[0]\n",
    "    HB=RN(0)\n",
    "    for i in range(N):\n",
    "        HB=HB+(RN(CoeffHB[i]))*RN.gens()[i]       \n",
    "    HB = PN.subscheme(HB)\n",
    "    return (sigmaB,HB)"
   ]
  },
  {
   "cell_type": "code",
   "execution_count": 78,
   "metadata": {},
   "outputs": [],
   "source": [
    "\n",
    "def Bob_common_key(HA):\n",
    "    \n",
    "    \"\"\"\n",
    "    Bob's computation of the Common Key\n",
    "    Bob calculates the common key, a j-invariant of a (2,2)-curve from the Alice's public hyperplane = HA\n",
    "    and his private sigma embedding= sigmaB\n",
    "\n",
    "    \"\"\"\n",
    "\n",
    "    XB=HA.defining_polynomials()[0](*sigmaB) #pullback  a \n",
    "    \n",
    "    # factorization to get (2,2) curve \n",
    "    if m ==3:\n",
    "        PXB=XB.factor()[1][0]\n",
    "    else:\n",
    "        PXB=XB.factor()[0][0] \n",
    "    CA2 = P1XP1.subscheme(PXB)\n",
    "    jB=j_invariant22(CA2)\n",
    "    return jB"
   ]
  },
  {
   "cell_type": "code",
   "execution_count": 79,
   "metadata": {},
   "outputs": [],
   "source": [
    "\n",
    "\n",
    "def Alice_common_key(HB):\n",
    "    \n",
    "    \n",
    "    \"\"\"\n",
    "    ALICE's computation of the Common key\n",
    "    Alice calculates the common key, a j-invariant of a (2,2)-curve from the Bob's public hyperplane = HB\n",
    "    and her private sigma embedding= sigmas\n",
    "    \"\"\"\n",
    "\n",
    "    \n",
    "    XA=HB.defining_polynomials()[0](*sigmas) # pullback\n",
    "    \n",
    "    # factorization to get (2,2) curve \n",
    "    if m ==3:\n",
    "        PXA=XA.factor()[1][0]\n",
    "    else:\n",
    "        PXA=XA.factor()[0][0]\n",
    "        \n",
    "    CA1 = P1XP1.subscheme(PXA)\n",
    "    \n",
    "    jA=j_invariant22(CA1)\n",
    "    return jA\n"
   ]
  },
  {
   "cell_type": "code",
   "execution_count": 80,
   "metadata": {},
   "outputs": [
    {
     "name": "stdout",
     "output_type": "stream",
     "text": [
      "CPU times: user 9.4 s, sys: 153 ms, total: 9.55 s\n",
      "Wall time: 9.42 s\n"
     ]
    }
   ],
   "source": [
    "%time sigmas,(HA, A1, A2, MAp) = keygenA()"
   ]
  },
  {
   "cell_type": "code",
   "execution_count": 81,
   "metadata": {},
   "outputs": [
    {
     "name": "stdout",
     "output_type": "stream",
     "text": [
      "CPU times: user 208 ms, sys: 4.06 ms, total: 212 ms\n",
      "Wall time: 209 ms\n"
     ]
    }
   ],
   "source": [
    "%time  (sigmaB,HB) = keygenB(A1, A2, MAp)"
   ]
  },
  {
   "cell_type": "code",
   "execution_count": 82,
   "metadata": {},
   "outputs": [
    {
     "name": "stdout",
     "output_type": "stream",
     "text": [
      "CPU times: user 73.6 ms, sys: 75 µs, total: 73.7 ms\n",
      "Wall time: 75 ms\n"
     ]
    }
   ],
   "source": [
    "%time jB = Bob_common_key(HA)"
   ]
  },
  {
   "cell_type": "code",
   "execution_count": 83,
   "metadata": {},
   "outputs": [
    {
     "name": "stdout",
     "output_type": "stream",
     "text": [
      "CPU times: user 64 ms, sys: 0 ns, total: 64 ms\n",
      "Wall time: 67.6 ms\n"
     ]
    }
   ],
   "source": [
    "%time jA = Alice_common_key(HB)"
   ]
  },
  {
   "cell_type": "code",
   "execution_count": 84,
   "metadata": {},
   "outputs": [
    {
     "data": {
      "text/plain": [
       "(1529, True)"
      ]
     },
     "execution_count": 84,
     "metadata": {},
     "output_type": "execute_result"
    }
   ],
   "source": [
    "jA, jA==jB"
   ]
  },
  {
   "cell_type": "code",
   "execution_count": null,
   "metadata": {},
   "outputs": [],
   "source": []
  }
 ],
 "metadata": {
  "kernelspec": {
   "display_name": "SageMath 8.1",
   "language": "",
   "name": "sagemath"
  },
  "language_info": {
   "codemirror_mode": {
    "name": "ipython",
    "version": 2
   },
   "file_extension": ".py",
   "mimetype": "text/x-python",
   "name": "python",
   "nbconvert_exporter": "python",
   "pygments_lexer": "ipython2",
   "version": "2.7.17"
  }
 },
 "nbformat": 4,
 "nbformat_minor": 2
}
